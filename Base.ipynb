{
 "cells": [
  {
   "cell_type": "code",
   "execution_count": 1,
   "id": "46ea4979",
   "metadata": {},
   "outputs": [],
   "source": [
    "import pandas as pd\n",
    "df = pd.read_csv(\"group1_small_final.csv\")"
   ]
  },
  {
   "cell_type": "code",
   "execution_count": 2,
   "id": "8e11fb18",
   "metadata": {},
   "outputs": [],
   "source": [
    "df = df.drop('Unnamed: 0', axis = 1)\n",
    "df['userid'] = df.userid.apply(lambda i: int(i[7:]))\n",
    "df['timestamp'] = pd.to_datetime(df.timestamp)"
   ]
  },
  {
   "cell_type": "code",
   "execution_count": 3,
   "id": "71af5b2d",
   "metadata": {},
   "outputs": [],
   "source": [
    "groupped = df.groupby('sessionid').value.sum()"
   ]
  },
  {
   "cell_type": "code",
   "execution_count": 4,
   "id": "78c9de32",
   "metadata": {},
   "outputs": [
    {
     "data": {
      "text/plain": [
       "26520410.408328455"
      ]
     },
     "execution_count": 4,
     "metadata": {},
     "output_type": "execute_result"
    }
   ],
   "source": [
    "groupped.mean()"
   ]
  },
  {
   "cell_type": "code",
   "execution_count": 5,
   "id": "daa9f361",
   "metadata": {},
   "outputs": [
    {
     "data": {
      "text/plain": [
       "35672388.3542847"
      ]
     },
     "execution_count": 5,
     "metadata": {},
     "output_type": "execute_result"
    }
   ],
   "source": [
    "groupped.max()"
   ]
  },
  {
   "cell_type": "code",
   "execution_count": 6,
   "id": "04d131dd",
   "metadata": {},
   "outputs": [
    {
     "data": {
      "text/plain": [
       "132447.8774835462"
      ]
     },
     "execution_count": 6,
     "metadata": {},
     "output_type": "execute_result"
    }
   ],
   "source": [
    "groupped[groupped != 0].min()"
   ]
  },
  {
   "cell_type": "code",
   "execution_count": 7,
   "id": "1b2bc27a",
   "metadata": {},
   "outputs": [
    {
     "data": {
      "text/plain": [
       "'--- Выбросов нет'"
      ]
     },
     "execution_count": 7,
     "metadata": {},
     "output_type": "execute_result"
    }
   ],
   "source": [
    "\"\"\"--- Выбросов нет\"\"\""
   ]
  },
  {
   "cell_type": "code",
   "execution_count": 8,
   "id": "7cc882ca",
   "metadata": {},
   "outputs": [
    {
     "data": {
      "text/plain": [
       "array([42, 51, 25, 34, 29, 18, 35, 40, 11, 28,  8, 23, 38, 41, 17, 54,  7,\n",
       "       21, 63, 46, 72, 79, 22, 14, 45, 71, 33, 27, 47, 19, 16, 57, 24, 44,\n",
       "       15, 59, 65, 36, 69, 77, 26, 20, 61, 10, 67, 12, 78, 55, 66, 37, 76,\n",
       "       48, 56, 64, 39, 43, 53, 31, 52, 30, 50, 58, 68, 60, 73, 32, 13, 81,\n",
       "       80, 74,  9, 70, 75, 62, 49], dtype=int64)"
      ]
     },
     "execution_count": 8,
     "metadata": {},
     "output_type": "execute_result"
    }
   ],
   "source": [
    "df.age.unique() # есть несовершеннолетние клиенты: учитывать или нет?"
   ]
  },
  {
   "cell_type": "code",
   "execution_count": 9,
   "id": "44cd26ec",
   "metadata": {},
   "outputs": [
    {
     "data": {
      "text/plain": [
       "array(['category', 'search', 'product', 'cart', 'checkout', 'mainpage',\n",
       "       'confirmation'], dtype=object)"
      ]
     },
     "execution_count": 9,
     "metadata": {},
     "output_type": "execute_result"
    }
   ],
   "source": [
    "\"\"\"\n",
    "Предполагаемые действия:\n",
    "mainpage - посещение страницы сайта\n",
    "search - поиск товара/категории\n",
    "category - открытие страницы категории\n",
    "product - посещение страницы продукта\n",
    "cart - посещение страницы корзины\n",
    "checkout - совершение покупки\n",
    "confirmation - подтверждение покупки\n",
    "\n",
    "\"\"\"\n",
    "\n",
    "df.action.unique()\n",
    "# !!!CHECKOUT И CONFIMATION  - СОВПАДАЮТ ЗНАЧЕНИЯ, НЕ УЧИТЫВАТЬ, Т.К В НЕКОТОРЫХ МЕСТАХ VALUE УДВАИВАЕТСЯ, А В НЕКОТОРЫХ НЕТ!!!\n"
   ]
  },
  {
   "cell_type": "code",
   "execution_count": 10,
   "id": "f492830a",
   "metadata": {},
   "outputs": [
    {
     "data": {
      "text/plain": [
       "sessionid\n",
       "1      13617\n",
       "2      13185\n",
       "3      13577\n",
       "4      13738\n",
       "5      13577\n",
       "       ...  \n",
       "582      416\n",
       "583      208\n",
       "584      164\n",
       "585       70\n",
       "586        4\n",
       "Name: userid, Length: 586, dtype: int64"
      ]
     },
     "execution_count": 10,
     "metadata": {},
     "output_type": "execute_result"
    }
   ],
   "source": [
    "df.groupby('sessionid').userid.count() # ???слишком большой разброс по кол-ву действий\n"
   ]
  },
  {
   "cell_type": "code",
   "execution_count": 11,
   "id": "a65946b5",
   "metadata": {},
   "outputs": [
    {
     "data": {
      "text/html": [
       "<div>\n",
       "<style scoped>\n",
       "    .dataframe tbody tr th:only-of-type {\n",
       "        vertical-align: middle;\n",
       "    }\n",
       "\n",
       "    .dataframe tbody tr th {\n",
       "        vertical-align: top;\n",
       "    }\n",
       "\n",
       "    .dataframe thead th {\n",
       "        text-align: right;\n",
       "    }\n",
       "</style>\n",
       "<table border=\"1\" class=\"dataframe\">\n",
       "  <thead>\n",
       "    <tr style=\"text-align: right;\">\n",
       "      <th></th>\n",
       "      <th>userid</th>\n",
       "      <th>sessionid</th>\n",
       "      <th>timestamp</th>\n",
       "      <th>action</th>\n",
       "      <th>value</th>\n",
       "      <th>category</th>\n",
       "      <th>age</th>\n",
       "      <th>gender</th>\n",
       "      <th>city</th>\n",
       "    </tr>\n",
       "  </thead>\n",
       "  <tbody>\n",
       "    <tr>\n",
       "      <th>0</th>\n",
       "      <td>0</td>\n",
       "      <td>1</td>\n",
       "      <td>2021-12-30 12:28:45</td>\n",
       "      <td>category</td>\n",
       "      <td>0.000000</td>\n",
       "      <td>Товары для детей</td>\n",
       "      <td>42</td>\n",
       "      <td>Ж</td>\n",
       "      <td>Красноярск</td>\n",
       "    </tr>\n",
       "    <tr>\n",
       "      <th>1</th>\n",
       "      <td>0</td>\n",
       "      <td>1</td>\n",
       "      <td>2021-12-30 12:29:10</td>\n",
       "      <td>search</td>\n",
       "      <td>0.000000</td>\n",
       "      <td>Товары для детей</td>\n",
       "      <td>42</td>\n",
       "      <td>Ж</td>\n",
       "      <td>Красноярск</td>\n",
       "    </tr>\n",
       "    <tr>\n",
       "      <th>2</th>\n",
       "      <td>0</td>\n",
       "      <td>1</td>\n",
       "      <td>2021-12-30 12:29:25</td>\n",
       "      <td>product</td>\n",
       "      <td>0.000000</td>\n",
       "      <td>Товары для детей</td>\n",
       "      <td>42</td>\n",
       "      <td>Ж</td>\n",
       "      <td>Красноярск</td>\n",
       "    </tr>\n",
       "    <tr>\n",
       "      <th>3</th>\n",
       "      <td>0</td>\n",
       "      <td>1</td>\n",
       "      <td>2021-12-30 12:29:26</td>\n",
       "      <td>search</td>\n",
       "      <td>0.000000</td>\n",
       "      <td>Товары для детей</td>\n",
       "      <td>42</td>\n",
       "      <td>Ж</td>\n",
       "      <td>Красноярск</td>\n",
       "    </tr>\n",
       "    <tr>\n",
       "      <th>4</th>\n",
       "      <td>0</td>\n",
       "      <td>1</td>\n",
       "      <td>2021-12-30 12:29:34</td>\n",
       "      <td>search</td>\n",
       "      <td>0.000000</td>\n",
       "      <td>Товары для детей</td>\n",
       "      <td>42</td>\n",
       "      <td>Ж</td>\n",
       "      <td>Красноярск</td>\n",
       "    </tr>\n",
       "    <tr>\n",
       "      <th>...</th>\n",
       "      <td>...</td>\n",
       "      <td>...</td>\n",
       "      <td>...</td>\n",
       "      <td>...</td>\n",
       "      <td>...</td>\n",
       "      <td>...</td>\n",
       "      <td>...</td>\n",
       "      <td>...</td>\n",
       "      <td>...</td>\n",
       "    </tr>\n",
       "    <tr>\n",
       "      <th>7510517</th>\n",
       "      <td>499</td>\n",
       "      <td>561</td>\n",
       "      <td>2025-01-02 05:16:56</td>\n",
       "      <td>cart</td>\n",
       "      <td>8318.131221</td>\n",
       "      <td>Авто/мото товары</td>\n",
       "      <td>12</td>\n",
       "      <td>М</td>\n",
       "      <td>Уфа</td>\n",
       "    </tr>\n",
       "    <tr>\n",
       "      <th>7510518</th>\n",
       "      <td>499</td>\n",
       "      <td>561</td>\n",
       "      <td>2025-01-02 05:17:03</td>\n",
       "      <td>category</td>\n",
       "      <td>0.000000</td>\n",
       "      <td>Авто/мото товары</td>\n",
       "      <td>12</td>\n",
       "      <td>М</td>\n",
       "      <td>Уфа</td>\n",
       "    </tr>\n",
       "    <tr>\n",
       "      <th>7510519</th>\n",
       "      <td>499</td>\n",
       "      <td>561</td>\n",
       "      <td>2025-01-02 05:17:23</td>\n",
       "      <td>product</td>\n",
       "      <td>0.000000</td>\n",
       "      <td>Электроника и бытовая техника</td>\n",
       "      <td>12</td>\n",
       "      <td>М</td>\n",
       "      <td>Уфа</td>\n",
       "    </tr>\n",
       "    <tr>\n",
       "      <th>7510520</th>\n",
       "      <td>499</td>\n",
       "      <td>561</td>\n",
       "      <td>2025-01-02 05:17:48</td>\n",
       "      <td>category</td>\n",
       "      <td>0.000000</td>\n",
       "      <td>Электроника и бытовая техника</td>\n",
       "      <td>12</td>\n",
       "      <td>М</td>\n",
       "      <td>Уфа</td>\n",
       "    </tr>\n",
       "    <tr>\n",
       "      <th>7510521</th>\n",
       "      <td>499</td>\n",
       "      <td>561</td>\n",
       "      <td>2025-01-02 05:17:57</td>\n",
       "      <td>search</td>\n",
       "      <td>0.000000</td>\n",
       "      <td>Электроника и бытовая техника</td>\n",
       "      <td>12</td>\n",
       "      <td>М</td>\n",
       "      <td>Уфа</td>\n",
       "    </tr>\n",
       "  </tbody>\n",
       "</table>\n",
       "<p>7507623 rows × 9 columns</p>\n",
       "</div>"
      ],
      "text/plain": [
       "         userid  sessionid           timestamp    action        value  \\\n",
       "0             0          1 2021-12-30 12:28:45  category     0.000000   \n",
       "1             0          1 2021-12-30 12:29:10    search     0.000000   \n",
       "2             0          1 2021-12-30 12:29:25   product     0.000000   \n",
       "3             0          1 2021-12-30 12:29:26    search     0.000000   \n",
       "4             0          1 2021-12-30 12:29:34    search     0.000000   \n",
       "...         ...        ...                 ...       ...          ...   \n",
       "7510517     499        561 2025-01-02 05:16:56      cart  8318.131221   \n",
       "7510518     499        561 2025-01-02 05:17:03  category     0.000000   \n",
       "7510519     499        561 2025-01-02 05:17:23   product     0.000000   \n",
       "7510520     499        561 2025-01-02 05:17:48  category     0.000000   \n",
       "7510521     499        561 2025-01-02 05:17:57    search     0.000000   \n",
       "\n",
       "                              category  age gender        city  \n",
       "0                     Товары для детей   42      Ж  Красноярск  \n",
       "1                     Товары для детей   42      Ж  Красноярск  \n",
       "2                     Товары для детей   42      Ж  Красноярск  \n",
       "3                     Товары для детей   42      Ж  Красноярск  \n",
       "4                     Товары для детей   42      Ж  Красноярск  \n",
       "...                                ...  ...    ...         ...  \n",
       "7510517               Авто/мото товары   12      М         Уфа  \n",
       "7510518               Авто/мото товары   12      М         Уфа  \n",
       "7510519  Электроника и бытовая техника   12      М         Уфа  \n",
       "7510520  Электроника и бытовая техника   12      М         Уфа  \n",
       "7510521  Электроника и бытовая техника   12      М         Уфа  \n",
       "\n",
       "[7507623 rows x 9 columns]"
      ]
     },
     "execution_count": 11,
     "metadata": {},
     "output_type": "execute_result"
    }
   ],
   "source": [
    "df.drop_duplicates(keep = 'first') #дубликаты, подробнее изучить и придумать как эффетивно удалить"
   ]
  },
  {
   "cell_type": "code",
   "execution_count": null,
   "id": "e821c201",
   "metadata": {},
   "outputs": [],
   "source": [
    "\"\"\"\n",
    "массив целостен, NaN-ов нет, про дубли не знаю\n",
    "\n",
    "идеи: закодировать признаки, проверить на дубли, (группировка?), поискать экстремумы и удалить недостоверные логи\n",
    "метрики: средняя стоимость сессии,\n",
    "    средняя продолжительность сессии,\n",
    "    зависимость стоимости сессии от ее длительности,\n",
    "    зависимость стоимости сессии от времени года, дня недели и времени суток\n",
    "    прибыль от пользователя\n",
    "    покупательная способность людей из разных городов, разного возраста, разного пола\n",
    "    средняя длительность того или иного действия\n",
    "    длительность сессии по городам (проверка работоспособности системы)\n",
    "    распределение категория - (возраст, пол, город)\n",
    "    средняя стоимость сессии по категориям\n",
    "    количество сессий, средняя стоимость сессии общая прибыль по категориям\n",
    "        по возрасту и полу\n",
    "        по городу\n",
    "    \n",
    "    *** добавить коэффициент(-ов) эффективности категории, всего бизнеса, зависящий от прибыли, \n",
    "        числа сессий времени, прошлых значение и т.д ***\n",
    "    \n",
    "    \n",
    "    сезонность категорий\n",
    "    DAU, MAU, WAU\n",
    "    Retention = количество активных пользователей в период n/количество активных пользователей в 0 периоде\n",
    "    \n",
    "    самые популярные маршруты действий\n",
    "    \n",
    "    добавить срезы по датам, селектор единицы даты во все вкладки\n",
    "    добавить вкладку на отдельную категорию со сравнительными характеристиками, особыми значениями, предположениями\n",
    "    добавить вкладку характеристик клиента, чтобы изучить метрики отдельной группы(селектор: пол, возраст, город)\n",
    "    ?отдельная вкладка с прогнозом?\n",
    "    !?вкладка конверсий (по когортам), по категориям можно отследить посещение страниц категории, товара и т.д.?!\n",
    "    \n",
    "    прогноз можно сделать с использованием какой-нибудь простой модели ML\n",
    "    \n",
    "    поделать красивых картинок с предположениями, экономическими обоснованиями, советами, рекомендациями, объяснением метрик,\n",
    "        также ссылки между вкладками и побольше пояснений для неподготовленного пользователя\n",
    "    \n",
    "    предлагаю обработать данные, убрать дубли и сломанные данные либо в спарке либо на пандасе, \n",
    "        большую часть сделать в даталенсе\n",
    "\"\"\""
   ]
  }
 ],
 "metadata": {
  "kernelspec": {
   "display_name": "Python 3 (ipykernel)",
   "language": "python",
   "name": "python3"
  },
  "language_info": {
   "codemirror_mode": {
    "name": "ipython",
    "version": 3
   },
   "file_extension": ".py",
   "mimetype": "text/x-python",
   "name": "python",
   "nbconvert_exporter": "python",
   "pygments_lexer": "ipython3",
   "version": "3.10.0"
  }
 },
 "nbformat": 4,
 "nbformat_minor": 5
}
